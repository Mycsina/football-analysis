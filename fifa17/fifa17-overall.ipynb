{
 "cells": [
  {
   "cell_type": "code",
   "execution_count": 67,
   "metadata": {},
   "outputs": [],
   "source": [
    "import tensorflow as tf\n",
    "import pandas as pd\n",
    "import numpy as np\n",
    "import seaborn as sns\n",
    "import matplotlib.pyplot as plt\n",
    "ct = lambda x: tf.convert_to_tensor(x, dtype=tf.float32)"
   ]
  },
  {
   "cell_type": "code",
   "execution_count": 68,
   "metadata": {},
   "outputs": [],
   "source": [
    "ignored_features = [\"Photo\", \"Flag\", \"Club Logo\", \"Real Face\", \"Jersey Number\", \"Loaned From\", \"Best Overall Rating\", \"Joined\", \"Contract Valid Until\", \"Nationality\", \"Club\", \"Position\", \"Name\", \"Value\", \"Wage\", \"Preferred Foot\", \"Work Rate\", \"Body Type\", \"Weight\", \"Height\", \"ID\"]"
   ]
  },
  {
   "cell_type": "code",
   "execution_count": 69,
   "metadata": {},
   "outputs": [],
   "source": [
    "def money(string):\n",
    "    clean = string[1:]\n",
    "    if clean[-1] in \"0123456789\":\n",
    "        return float(clean)\n",
    "    elif clean[-1] == \"K\":\n",
    "        return float(clean[:-1]) * 1000\n",
    "    else:\n",
    "        return float(clean[:-1]) * 1000000"
   ]
  },
  {
   "cell_type": "code",
   "execution_count": 70,
   "metadata": {},
   "outputs": [],
   "source": [
    "fifa17 = pd.read_csv('../archive/FIFA17_official_data.csv').drop(columns=ignored_features).convert_dtypes()\n",
    "# fifa17[\"Value\"] = fifa17[\"Value\"].apply(money)\n",
    "# fifa17[\"Wage\"] = fifa17[\"Wage\"].apply(money)\n",
    "fifa17 = pd.get_dummies(fifa17, columns=['Best Position'], prefix='', prefix_sep='')"
   ]
  },
  {
   "cell_type": "code",
   "execution_count": 71,
   "metadata": {},
   "outputs": [],
   "source": [
    "train_dataset = fifa17.sample(frac=0.8, random_state=0)\n",
    "test_dataset = fifa17.drop(train_dataset.index)"
   ]
  },
  {
   "cell_type": "code",
   "execution_count": 72,
   "metadata": {},
   "outputs": [],
   "source": [
    "train_features = train_dataset.copy()\n",
    "test_features = test_dataset.copy()\n",
    "\n",
    "train_labels = train_features.pop('Overall')\n",
    "test_labels = test_features.pop('Overall')\n",
    "\n",
    "train_features = ct(train_features)\n",
    "test_features = ct(test_features)\n",
    "train_labels = ct(train_labels)\n",
    "test_labels = ct(test_labels)"
   ]
  },
  {
   "cell_type": "code",
   "execution_count": 73,
   "metadata": {},
   "outputs": [],
   "source": [
    "normalizer = tf.keras.layers.Normalization(axis=-1)\n",
    "normalizer.adapt(np.array(train_features))"
   ]
  },
  {
   "cell_type": "code",
   "execution_count": 74,
   "metadata": {},
   "outputs": [],
   "source": [
    "def plot_loss(history):\n",
    "  plt.plot(history.history['loss'], label='loss')\n",
    "  plt.plot(history.history['val_loss'], label='val_loss')\n",
    "  plt.ylim([0, 10])\n",
    "  plt.xlabel('Epoch')\n",
    "  plt.ylabel('Error')\n",
    "  plt.legend()\n",
    "  plt.grid(True)"
   ]
  },
  {
   "cell_type": "code",
   "execution_count": 75,
   "metadata": {},
   "outputs": [
    {
     "name": "stdout",
     "output_type": "stream",
     "text": [
      "Model: \"sequential_9\"\n",
      "_________________________________________________________________\n",
      " Layer (type)                Output Shape              Param #   \n",
      "=================================================================\n",
      " normalization_1 (Normalizat  (None, 55)               111       \n",
      " ion)                                                            \n",
      "                                                                 \n",
      " dense_24 (Dense)            (None, 100)               5600      \n",
      "                                                                 \n",
      " dense_25 (Dense)            (None, 1)                 101       \n",
      "                                                                 \n",
      "=================================================================\n",
      "Total params: 5,812\n",
      "Trainable params: 5,701\n",
      "Non-trainable params: 111\n",
      "_________________________________________________________________\n"
     ]
    }
   ],
   "source": [
    "model = tf.keras.Sequential([\n",
    "      normalizer,\n",
    "      tf.keras.layers.Dense(100, kernel_initializer=\"lecun_normal\", activation='selu'),\n",
    "      tf.keras.layers.Dense(1)\n",
    "  ])\n",
    "model.compile(loss='huber_loss',\n",
    "                optimizer=tf.keras.optimizers.Nadam())\n",
    "model.summary()"
   ]
  },
  {
   "cell_type": "code",
   "execution_count": 76,
   "metadata": {},
   "outputs": [],
   "source": [
    "n_epochs = 300"
   ]
  },
  {
   "cell_type": "code",
   "execution_count": 77,
   "metadata": {},
   "outputs": [
    {
     "data": {
      "image/png": "[encoded data removed]",
      "text/plain": [
       "<Figure size 432x288 with 1 Axes>"
      ]
     },
     "metadata": {
      "needs_background": "light"
     },
     "output_type": "display_data"
    }
   ],
   "source": [
    "history = model.fit(\n",
    "    train_features,\n",
    "    train_labels,\n",
    "    validation_split=0.2,\n",
    "    verbose=0, epochs=n_epochs)\n",
    "plot_loss(history)"
   ]
  },
  {
   "cell_type": "code",
   "execution_count": 78,
   "metadata": {},
   "outputs": [
    {
     "name": "stdout",
     "output_type": "stream",
     "text": [
      "110/110 [==============================] - 0s 971us/step\n"
     ]
    },
    {
     "data": {
      "text/plain": [
       "[<matplotlib.lines.Line2D at 0x1b1f2430850>]"
      ]
     },
     "execution_count": 78,
     "metadata": {},
     "output_type": "execute_result"
    },
    {
     "data": {
      "image/png": "[encoded data removed]",
      "text/plain": [
       "<Figure size 432x288 with 1 Axes>"
      ]
     },
     "metadata": {
      "needs_background": "light"
     },
     "output_type": "display_data"
    }
   ],
   "source": [
    "test_predictions = model.predict(test_features).flatten()\n",
    "\n",
    "a = plt.axes(aspect='equal')\n",
    "plt.scatter(test_labels, test_predictions)\n",
    "plt.xlabel('True Values [Overall]')\n",
    "plt.ylabel('Predictions [Overall]')\n",
    "lims = [0, 100]\n",
    "plt.xlim(lims)\n",
    "plt.ylim(lims)\n",
    "plt.plot(lims, lims)"
   ]
  },
  {
   "cell_type": "code",
   "execution_count": 79,
   "metadata": {},
   "outputs": [
    {
     "data": {
      "text/plain": [
       "Text(0.5, 0, 'Prediction Error [Overall]')"
      ]
     },
     "execution_count": 79,
     "metadata": {},
     "output_type": "execute_result"
    },
    {
     "data": {
      "image/png": "[encoded data removed]",
      "text/plain": [
       "<Figure size 432x288 with 1 Axes>"
      ]
     },
     "metadata": {
      "needs_background": "light"
     },
     "output_type": "display_data"
    }
   ],
   "source": [
    "error = test_predictions - ct(test_labels)\n",
    "g = sns.histplot(error, bins=25, kde=True)\n",
    "g.set_xlabel(\"Prediction Error [Overall]\")"
   ]
  },
  {
   "cell_type": "code",
   "execution_count": 80,
   "metadata": {},
   "outputs": [
    {
     "name": "stdout",
     "output_type": "stream",
     "text": [
      "113/113 [==============================] - 0s 1ms/step\n"
     ]
    }
   ],
   "source": [
    "fifa18 = pd.read_csv('../archive/FIFA18_official_data.csv').drop(columns=ignored_features).drop(columns=\"Release Clause\").convert_dtypes()\n",
    "fifa18 = pd.get_dummies(fifa18, columns=['Best Position'], prefix='', prefix_sep='')\n",
    "\n",
    "features = fifa18.copy().sample(frac=0.2, random_state=0)\n",
    "labels = features.pop('Overall')\n",
    "\n",
    "results = model.predict(ct(features)).flatten()"
   ]
  },
  {
   "cell_type": "code",
   "execution_count": 81,
   "metadata": {},
   "outputs": [
    {
     "data": {
      "text/plain": [
       "Text(0.5, 0, 'Prediction Error [Overall]')"
      ]
     },
     "execution_count": 81,
     "metadata": {},
     "output_type": "execute_result"
    },
    {
     "data": {
      "image/png": "[encoded data removed]",
      "text/plain": [
       "<Figure size 432x288 with 1 Axes>"
      ]
     },
     "metadata": {
      "needs_background": "light"
     },
     "output_type": "display_data"
    }
   ],
   "source": [
    "error = results - ct(labels)\n",
    "g = sns.histplot(error, bins=25, kde=True)\n",
    "g.set_xlabel(\"Prediction Error [Overall]\")"
   ]
  }
 ],
 "metadata": {
  "kernelspec": {
   "display_name": "Python 3.10.1 ('football-analysis-0cEIki2U-py3.10')",
   "language": "python",
   "name": "python3"
  },
  "language_info": {
   "codemirror_mode": {
    "name": "ipython",
    "version": 3
   },
   "file_extension": ".py",
   "mimetype": "text/x-python",
   "name": "python",
   "nbconvert_exporter": "python",
   "pygments_lexer": "ipython3",
   "version": "3.10.1"
  },
  "orig_nbformat": 4,
  "vscode": {
   "interpreter": {
    "hash": "cf11ae7326efb9eeef392f18cb4c781f6d4bafb7ddc94d8ec2d9209331426eff"
   }
  }
 },
 "nbformat": 4,
 "nbformat_minor": 2
}
