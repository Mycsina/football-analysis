{
 "cells": [
  {
   "cell_type": "code",
   "execution_count": 35,
   "metadata": {},
   "outputs": [],
   "source": [
    "import pandas as pd\n",
    "import seaborn as sns\n",
    "\n",
    "sns.set_theme(style=\"darkgrid\")"
   ]
  },
  {
   "cell_type": "code",
   "execution_count": 33,
   "metadata": {},
   "outputs": [],
   "source": [
    "fifa17 = pd.read_csv('archive/FIFA17_official_data.csv').convert_dtypes()\n",
    "fifa21 = pd.read_csv('archive/FIFA21_official_data.csv').convert_dtypes()"
   ]
  },
  {
   "cell_type": "code",
   "execution_count": 23,
   "metadata": {},
   "outputs": [
    {
     "data": {
      "text/plain": [
       "['Release Clause', 'DefensiveAwareness']"
      ]
     },
     "execution_count": 23,
     "metadata": {},
     "output_type": "execute_result"
    }
   ],
   "source": [
    "# New features\n",
    "diff_features = [x for x in list(fifa21) if x not in list(fifa17)]\n",
    "diff_features"
   ]
  },
  {
   "cell_type": "code",
   "execution_count": 32,
   "metadata": {},
   "outputs": [
    {
     "data": {
      "text/plain": [
       "35        12 Roberto Carlos\n",
       "42                     Fred\n",
       "58            12 M. Ballack\n",
       "72              F. Valverde\n",
       "97                   Arthur\n",
       "                ...        \n",
       "17103          19 C. Miszta\n",
       "17104               B. Voll\n",
       "17105             T. Parker\n",
       "17106            H. Sveijer\n",
       "17107           19 J. Milli\n",
       "Name: Name, Length: 8872, dtype: string"
      ]
     },
     "execution_count": 32,
     "metadata": {},
     "output_type": "execute_result"
    }
   ],
   "source": [
    "# New players\n",
    "new_players_id = fifa21.loc[~fifa21[\"ID\"].isin(fifa17[\"ID\"]), \"ID\"]\n",
    "fifa21.loc[fifa21[\"ID\"].isin(new_players_id), \"Name\"]"
   ]
  },
  {
   "cell_type": "code",
   "execution_count": 41,
   "metadata": {},
   "outputs": [
    {
     "data": {
      "text/plain": [
       "0.625036043295637"
      ]
     },
     "execution_count": 41,
     "metadata": {},
     "output_type": "execute_result"
    }
   ],
   "source": [
    "# Checking the average player score\n",
    "fifa21[\"Overall\"].mean() - fifa17[\"Overall\"].mean()"
   ]
  }
 ],
 "metadata": {
  "kernelspec": {
   "display_name": "Python 3.10.1 64-bit ('3.10.1')",
   "language": "python",
   "name": "python3"
  },
  "language_info": {
   "codemirror_mode": {
    "name": "ipython",
    "version": 3
   },
   "file_extension": ".py",
   "mimetype": "text/x-python",
   "name": "python",
   "nbconvert_exporter": "python",
   "pygments_lexer": "ipython3",
   "version": "3.10.1"
  },
  "orig_nbformat": 4,
  "vscode": {
   "interpreter": {
    "hash": "aeff17c994b8e619ebd7a3b1aef7900ddc6b0df294a1190b66b96df71de05826"
   }
  }
 },
 "nbformat": 4,
 "nbformat_minor": 2
}
